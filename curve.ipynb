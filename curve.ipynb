{
 "cells": [
  {
   "attachments": {},
   "cell_type": "markdown",
   "metadata": {},
   "source": [
    "# Ajuste de Curva"
   ]
  },
  {
   "attachments": {},
   "cell_type": "markdown",
   "metadata": {},
   "source": [
    "#### Imports"
   ]
  },
  {
   "cell_type": "code",
   "execution_count": null,
   "metadata": {},
   "outputs": [],
   "source": [
    "from matplotlib.pyplot import rc, figure\n",
    "from numpy import zeros, linspace\n",
    "from numpy.typing import NDArray\n",
    "from itertools import pairwise"
   ]
  },
  {
   "attachments": {},
   "cell_type": "markdown",
   "metadata": {},
   "source": [
    "#### Ajuste de curva"
   ]
  },
  {
   "cell_type": "code",
   "execution_count": null,
   "metadata": {},
   "outputs": [],
   "source": [
    "def curve_adjust(D: NDArray, I: NDArray, n: int):\n",
    "  G = D.reshape(-1, 1) ** range(n)\n",
    "  A, B = (G.T @ G), (G.T @ I)\n",
    "\n",
    "  L, U = zeros((n, n)), A\n",
    "  L.flat[::(n + 1)] = 1\n",
    "\n",
    "  for i, ii in pairwise(range(n)):\n",
    "    L[ii:, i] = U[ii:, i] / U[i, i]\n",
    "    U[ii:] -= L[ii:, i, None] * U[i]\n",
    "\n",
    "  x, y = zeros(n), zeros(n)\n",
    "\n",
    "  for i in range(n):\n",
    "    y[i] = B[i] - (L[i] * y).sum()\n",
    "\n",
    "  for i in reversed(range(n)):\n",
    "    temp = y[i] - (U[i] * x).sum()\n",
    "    x[i] = temp / U[i, i]\n",
    "\n",
    "  return (G @ x)"
   ]
  },
  {
   "cell_type": "markdown",
   "metadata": {},
   "source": [
    "#### Plotagem de gráficos"
   ]
  },
  {
   "cell_type": "code",
   "execution_count": null,
   "metadata": {},
   "outputs": [],
   "source": [
    "def plotImg(D: NDArray, I: NDArray, R: NDArray):\n",
    "  rc(\"font\", family = \"Arial\", size = 10)\n",
    "  rc(\"lines\", aa = True, lw = .5)\n",
    "  fig = figure(figsize = (12, 5))\n",
    "  axe = fig.subplots(); fig.dpi = 500\n",
    "\n",
    "  axe.plot(D, I, label = \"Original\")\n",
    "  axe.plot(D, R, label = \"Ajustado\")\n",
    "  axe.set_title(\"Ajuste de Curva\")\n",
    "  axe.set_xlabel(\"Domínio\")\n",
    "  axe.set_ylabel(\"Imagem\")\n",
    "  axe.legend()\n",
    "\n",
    "  fig.tight_layout(pad = 1)"
   ]
  },
  {
   "attachments": {},
   "cell_type": "markdown",
   "metadata": {},
   "source": [
    "### Execução do Código"
   ]
  },
  {
   "cell_type": "code",
   "execution_count": null,
   "metadata": {},
   "outputs": [],
   "source": [
    "def func(x: int | float | NDArray): return x**45\n",
    "dom = linspace(-1, 1, 500); img = func(dom)\n",
    "plotImg(dom, img, curve_adjust(dom, img, 15))"
   ]
  }
 ],
 "metadata": {
  "kernelspec": {
   "display_name": "Python 3",
   "language": "python",
   "name": "python3"
  },
  "language_info": {
   "codemirror_mode": {
    "name": "ipython",
    "version": 3
   },
   "file_extension": ".py",
   "mimetype": "text/x-python",
   "name": "python",
   "nbconvert_exporter": "python",
   "pygments_lexer": "ipython3",
   "version": "3.12.4"
  },
  "orig_nbformat": 4
 },
 "nbformat": 4,
 "nbformat_minor": 2
}
