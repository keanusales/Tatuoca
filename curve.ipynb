{
 "cells": [
  {
   "attachments": {},
   "cell_type": "markdown",
   "metadata": {},
   "source": [
    "# Ajuste de Curva"
   ]
  },
  {
   "attachments": {},
   "cell_type": "markdown",
   "metadata": {},
   "source": [
    "#### Imports"
   ]
  },
  {
   "cell_type": "code",
   "execution_count": null,
   "metadata": {},
   "outputs": [],
   "source": [
    "from matplotlib.pyplot import rc, figure\n",
    "from numpy import zeros, linspace, cos\n",
    "from numpy import errstate, floating\n",
    "from numpy.typing import NDArray\n",
    "from typing import Callable, Any\n",
    "from itertools import pairwise"
   ]
  },
  {
   "cell_type": "markdown",
   "metadata": {},
   "source": [
    "#### Definições de Tipo"
   ]
  },
  {
   "cell_type": "code",
   "execution_count": null,
   "metadata": {},
   "outputs": [],
   "source": [
    "NDArray = NDArray[floating[Any]]\n",
    "Function = Callable[[NDArray], NDArray]"
   ]
  },
  {
   "attachments": {},
   "cell_type": "markdown",
   "metadata": {},
   "source": [
    "#### Ajuste de curva"
   ]
  },
  {
   "cell_type": "code",
   "execution_count": null,
   "metadata": {},
   "outputs": [],
   "source": [
    "def adjust(D: NDArray, I: NDArray, n: int):\n",
    "  with errstate(all = \"raise\"):\n",
    "    G = D.reshape(-1, 1) ** range(n)\n",
    "    A, B = (G.T @ G), (G.T @ I)\n",
    "\n",
    "    L, U = zeros((n, n)), A\n",
    "    L.flat[::(n + 1)] = 1\n",
    "\n",
    "    for i, ii in pairwise(range(n)):\n",
    "      L[ii:, i] = U[ii:, i] / U[i, i]\n",
    "      U[ii:] -= L[ii:, i, None] * U[i]\n",
    "\n",
    "    x, y = zeros(n), zeros(n)\n",
    "\n",
    "    for i in range(n):\n",
    "      y[i] = B[i] - (L[i] @ y)\n",
    "\n",
    "    for i in reversed(range(n)):\n",
    "      temp = y[i] - (U[i] @ x)\n",
    "      x[i] = temp / U[i, i]\n",
    "\n",
    "    return (G @ x)"
   ]
  },
  {
   "cell_type": "markdown",
   "metadata": {},
   "source": [
    "#### Plotagem de gráficos"
   ]
  },
  {
   "cell_type": "code",
   "execution_count": null,
   "metadata": {},
   "outputs": [],
   "source": [
    "def plt_img(D: NDArray, I: NDArray, R: NDArray):\n",
    "  rc(\"font\", family = \"Arial\", size = 10)\n",
    "  rc(\"lines\", aa = True, lw = .5)\n",
    "  fig = figure(None, (12, 5), 200)\n",
    "  axe = fig.subplots()\n",
    "\n",
    "  axe.set_title(\"Ajuste de Curva\")\n",
    "  axe.plot(D, I, label = \"Original\")\n",
    "  axe.plot(D, R, label = \"Ajustado\")\n",
    "  axe.set_xlabel(\"Domínio\")\n",
    "  axe.set_ylabel(\"Imagem\")\n",
    "  axe.legend()\n",
    "\n",
    "  fig.tight_layout(pad = 1)"
   ]
  },
  {
   "cell_type": "markdown",
   "metadata": {},
   "source": [
    "#### Função main"
   ]
  },
  {
   "cell_type": "code",
   "execution_count": null,
   "metadata": {},
   "outputs": [],
   "source": [
    "def main(f: Function, a: float, b: float, p: int, n: int):\n",
    "  plt_img((D := linspace(a, b, p)), (I := f(D)), adjust(D, I, n))"
   ]
  },
  {
   "attachments": {},
   "cell_type": "markdown",
   "metadata": {},
   "source": [
    "#### Execução do Código"
   ]
  },
  {
   "cell_type": "code",
   "execution_count": null,
   "metadata": {},
   "outputs": [],
   "source": [
    "main(lambda x: cos(x) + cos(2.5 * x) + cos((2**.35) * x), -15, 15, 2000, 65)"
   ]
  }
 ],
 "metadata": {
  "kernelspec": {
   "display_name": "Python 3",
   "language": "python",
   "name": "python3"
  },
  "language_info": {
   "codemirror_mode": {
    "name": "ipython",
    "version": 3
   },
   "file_extension": ".py",
   "mimetype": "text/x-python",
   "name": "python",
   "nbconvert_exporter": "python",
   "pygments_lexer": "ipython3",
   "version": "3.12.4"
  },
  "orig_nbformat": 4
 },
 "nbformat": 4,
 "nbformat_minor": 2
}
