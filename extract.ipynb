{
 "cells": [
  {
   "cell_type": "code",
   "execution_count": null,
   "metadata": {},
   "outputs": [],
   "source": [
    "from numpy.typing import NDArray\n",
    "from numpy import full, asarray\n",
    "from os.path import isfile, isdir, join\n",
    "from os import mkdir, scandir\n",
    "from itertools import product\n",
    "from cv2.typing import MatLike, Size\n",
    "from cv2 import (cvtColor, imread, imwrite, resize, Canny,\n",
    "  GaussianBlur, ADAPTIVE_THRESH_GAUSSIAN_C, THRESH_BINARY,\n",
    "  adaptiveThreshold, COLOR_BGR2GRAY, COLOR_GRAY2BGR)\n",
    "from lpmalgos import Ellipsoid, find_clusters\n",
    "from skeleton import skeletonize\n",
    "from shutil import rmtree"
   ]
  },
  {
   "cell_type": "code",
   "execution_count": null,
   "metadata": {},
   "outputs": [],
   "source": [
    "BLACK, WHITE, RED = 0, 255, (0, 0, 255)\n",
    "larrs = list[NDArray]\n",
    "\n",
    "def checkValidImageFormat(extension: str):\n",
    "  valid = (\"bmp\", \"dib\", \"jpeg\", \"jpg\", \"jpe\",\n",
    "    \"jp2\", \"png\", \"pnm\", \"avif\", \"pbm\", \"pgm\",\n",
    "    \"ppm\", \"pxm\", \"webp\", \"pfm\", \"sr\", \"ras\",\n",
    "    \"tiff\", \"tif\", \"exr\", \"hdr\", \"pic\")\n",
    "  if not extension in valid:\n",
    "    raise TypeError(\"Não é uma imagem!\")\n",
    "\n",
    "def bgr2gray(entrie: MatLike):\n",
    "  return cvtColor(entrie, COLOR_BGR2GRAY)\n",
    "\n",
    "def gray2bgr(entrie: MatLike):\n",
    "  return cvtColor(entrie, COLOR_GRAY2BGR)"
   ]
  },
  {
   "cell_type": "code",
   "execution_count": null,
   "metadata": {},
   "outputs": [],
   "source": [
    "def imopen(entrie: str):\n",
    "  def imopen_core(entrie: str):\n",
    "    name, ext = entrie.split(\".\")\n",
    "    checkValidImageFormat(ext)\n",
    "    if isdir(name): rmtree(name)\n",
    "    return name, bgr2gray(imread(entrie))\n",
    "\n",
    "  if isfile(entrie):\n",
    "    yield imopen_core(entrie)\n",
    "    return\n",
    "  if isdir(entrie):\n",
    "    yield from (imopen_core(join(entrie, e.name))\n",
    "      for e in scandir(entrie) if e.is_file())\n",
    "    return\n",
    "\n",
    "  raise FileNotFoundError(f\"{entrie} ñ existe!\")"
   ]
  },
  {
   "cell_type": "code",
   "execution_count": null,
   "metadata": {},
   "outputs": [],
   "source": [
    "def cutImage(entrie: MatLike, shape: Size):\n",
    "  if len(shape) != 2: raise TypeError(\n",
    "    \"\\\"shape\\\" não tem tamanho 2!\")\n",
    "  x1, x2, y1, y2 = 180, 2445, 305, 6095\n",
    "  cutted = entrie[x1:x2, y1:y2]\n",
    "  cutted = resize(cutted, shape[::-1])\n",
    "  print(\"cutImage terminado!\")\n",
    "  return cutted"
   ]
  },
  {
   "cell_type": "code",
   "execution_count": null,
   "metadata": {},
   "outputs": [],
   "source": [
    "def gaussProcess(entrie: MatLike, size = 19, C = 10):\n",
    "  output = adaptiveThreshold(entrie, 255,\n",
    "    ADAPTIVE_THRESH_GAUSSIAN_C, THRESH_BINARY, size, C)\n",
    "  output = GaussianBlur(output, (11, 11), 0)\n",
    "  print(\"gaussProcess terminado!\")\n",
    "  return output"
   ]
  },
  {
   "cell_type": "code",
   "execution_count": null,
   "metadata": {},
   "outputs": [],
   "source": [
    "def cannyFilter(entrie: MatLike):\n",
    "  output = Canny(entrie, 200, 255, L2gradient = True)\n",
    "  print(\"cannyFilter terminado!\")\n",
    "  return output"
   ]
  },
  {
   "cell_type": "code",
   "execution_count": null,
   "metadata": {},
   "outputs": [],
   "source": [
    "def separeLines(entrie: MatLike, quant = 2000):\n",
    "  def separeLines_core():\n",
    "    dim1, dim2 = (entrie == WHITE).nonzero()\n",
    "    data_locs = asarray((dim2, dim1, [0]*len(dim1))).T\n",
    "    ani = Ellipsoid(((.3, 0, 0), (0, 2.6, 0), (0, 0, 0)))\n",
    "    clusters = asarray(find_clusters(data_locs, ani, 20, 6, 1e-9, 1))\n",
    "    for cluster in set(clusters):\n",
    "      dim2, dim1, a = data_locs[clusters == cluster].T\n",
    "      if len(dim2) < quant: continue\n",
    "      yield asarray((dim1, dim2)).T[dim2.argsort()]\n",
    "\n",
    "  output = [*separeLines_core()]\n",
    "  print(\"separeLines terminado!\")\n",
    "  return output"
   ]
  },
  {
   "cell_type": "code",
   "execution_count": null,
   "metadata": {},
   "outputs": [],
   "source": [
    "def meanRemove(entrie: larrs):\n",
    "  MIN, MAX = 550, 5\n",
    "  curves: larrs = []\n",
    "  basels: larrs = []\n",
    "  for array in entrie:\n",
    "    (A, B) = array.T\n",
    "    choice = curves\n",
    "    mean = A.mean(dtype = int)\n",
    "    res = (abs(A - mean) > MAX)\n",
    "    if res.sum() < MIN:\n",
    "      choice, res = basels, ~res\n",
    "      A, B = A[res], B[res]\n",
    "    array = asarray((A, B)).T\n",
    "    choice.append(array)\n",
    "  print(\"meanRemove terminado!\")\n",
    "  return curves, basels"
   ]
  },
  {
   "cell_type": "code",
   "execution_count": null,
   "metadata": {},
   "outputs": [],
   "source": [
    "def saveLines(lines: larrs, dname: str, dtype: str, shape: Size):\n",
    "  if len(shape) != 2: raise TypeError(\"len(shape) != 2!\")\n",
    "  pasta, preta = f\"{dname}/lines\", full(shape, BLACK, \"u1\")\n",
    "  if not isdir(pasta): mkdir(pasta)\n",
    "  for i, subarray in enumerate(lines):\n",
    "    imagem, (dim1, dim2) = preta.copy(), subarray.T\n",
    "    imagem[dim1, dim2] = WHITE\n",
    "    imwrite(f\"{pasta}/{dtype}{i}.png\", imagem)\n",
    "    with open(f\"{pasta}/{dtype}{i}.txt\", \"w\") as saida:\n",
    "      saida.write(f\"Tam.: {shape}\\n\")\n",
    "      saida.writelines(f\"{tp}\" for tp in subarray)\n",
    "  print(\"saveLines terminado!\")"
   ]
  },
  {
   "cell_type": "code",
   "execution_count": null,
   "metadata": {},
   "outputs": [],
   "source": [
    "def sobrepor(entrie: MatLike, listas: larrs):\n",
    "  output = gray2bgr(entrie)\n",
    "  dim1, dim2 = zip(*(e for a in listas for e in a))\n",
    "  output[dim1, dim2] = RED\n",
    "  print(\"sobrepor terminado!\")\n",
    "  return output"
   ]
  },
  {
   "cell_type": "code",
   "execution_count": null,
   "metadata": {},
   "outputs": [],
   "source": [
    "def differs(curves: larrs, basels: larrs, dname: str, alt: int):\n",
    "  pasta, const = f\"{dname}/diffs\", (200 / alt)\n",
    "  if not isdir(pasta): mkdir(pasta)\n",
    "  ecurves, ebasels = enumerate(curves), enumerate(basels)\n",
    "  for (c, curve), (b, basel) in product(ecurves, ebasels):\n",
    "    mean = basel.T[0].mean(dtype = int)\n",
    "    with open(f\"{pasta}/curve{c}base{b}.txt\", \"w\") as saida:\n",
    "      for (e1, e2) in curve:\n",
    "        value = (mean - e1) * const\n",
    "        el1, el2 = (e1, e2), (mean, e2)\n",
    "        saida.write(f\"{el1}{el2} - {value}\\n\")\n",
    "  print(\"differs terminado!\")"
   ]
  },
  {
   "cell_type": "code",
   "execution_count": null,
   "metadata": {},
   "outputs": [],
   "source": [
    "shape, alt = (1800, 4590), 4590\n",
    "for name, opened in imopen(\"Imagens\"):\n",
    "  print(f\"Imagem atual: {name}\")\n",
    "  if not isdir(name): mkdir(name)\n",
    "\n",
    "  cutted = cutImage(opened, shape)\n",
    "  imwrite(f\"{name}/cutted.png\", cutted)\n",
    "  gauss = gaussProcess(cutted)\n",
    "  imwrite(f\"{name}/gauss.png\", gauss)\n",
    "  canny = cannyFilter(gauss)\n",
    "  imwrite(f\"{name}/canny.png\", canny)\n",
    "\n",
    "  skeleton = skeletonize(canny, 12)\n",
    "  imwrite(f\"{name}/skeleton.png\", skeleton)\n",
    "\n",
    "  separed = separeLines(skeleton)\n",
    "  curves, basels = meanRemove(separed)\n",
    "\n",
    "  saveLines(curves, name, \"curve\", shape)\n",
    "  saveLines(basels, name, \"basel\", shape)\n",
    "  differs(curves, basels, name, alt)\n",
    "\n",
    "  sobre1 = sobrepor(skeleton, curves)\n",
    "  sobre2 = sobrepor(canny, curves)\n",
    "  imwrite(f\"{name}/sobre1.png\", sobre1)\n",
    "  imwrite(f\"{name}/sobre2.png\", sobre2)\n",
    "  print(\"\\n----------------------\\n\")\n",
    "\n",
    "print(\"Processo Terminado!\")"
   ]
  }
 ],
 "metadata": {
  "kernelspec": {
   "display_name": "Python 3",
   "language": "python",
   "name": "python3"
  },
  "language_info": {
   "codemirror_mode": {
    "name": "ipython",
    "version": 3
   },
   "file_extension": ".py",
   "mimetype": "text/x-python",
   "name": "python",
   "nbconvert_exporter": "python",
   "pygments_lexer": "ipython3",
   "version": "3.12.4"
  }
 },
 "nbformat": 4,
 "nbformat_minor": 2
}
