{
 "cells": [
  {
   "cell_type": "code",
   "execution_count": null,
   "metadata": {},
   "outputs": [],
   "source": [
    "from numpy.typing import NDArray\n",
    "from numpy import integer, floating\n",
    "from numpy import zeros, vstack\n",
    "from os.path import isfile, isdir, join\n",
    "from os import mkdir, scandir\n",
    "from itertools import product\n",
    "from cv2.typing import MatLike, Size\n",
    "from cv2 import (cvtColor, imread, imwrite, resize, Canny,\n",
    "  GaussianBlur, ADAPTIVE_THRESH_GAUSSIAN_C, THRESH_BINARY,\n",
    "  adaptiveThreshold, COLOR_BGR2GRAY, COLOR_GRAY2BGR)\n",
    "from lpmalgos import Ellipsoid, find_clusters\n",
    "from skeleton import skeletonize\n",
    "from shutil import rmtree\n",
    "from typing import Any"
   ]
  },
  {
   "cell_type": "code",
   "execution_count": null,
   "metadata": {},
   "outputs": [],
   "source": [
    "NDArray = NDArray[integer[Any] | floating[Any]]\n",
    "BLACK, WHITE, RED = 0, 255, (0, 0, 255)\n",
    "larrs = list[NDArray]\n",
    "\n",
    "def checkValidImageFormat(extension: str):\n",
    "  valid = (\"bmp\", \"dib\", \"jpeg\", \"jpg\", \"jpe\",\n",
    "    \"jp2\", \"png\", \"pnm\", \"avif\", \"pbm\", \"pgm\",\n",
    "    \"ppm\", \"pxm\", \"webp\", \"pfm\", \"sr\", \"ras\",\n",
    "    \"tiff\", \"tif\", \"exr\", \"hdr\", \"pic\")\n",
    "  if not extension in valid:\n",
    "    raise TypeError(\"Não é uma imagem!\")\n",
    "\n",
    "def bgr2gray(entrie: MatLike):\n",
    "  return cvtColor(entrie, COLOR_BGR2GRAY)\n",
    "\n",
    "def gray2bgr(entrie: MatLike):\n",
    "  return cvtColor(entrie, COLOR_GRAY2BGR)"
   ]
  },
  {
   "cell_type": "code",
   "execution_count": null,
   "metadata": {},
   "outputs": [],
   "source": [
    "def imopen(entrie: str):\n",
    "  def imopen_core(entrie: str):\n",
    "    name, ext = entrie.split(\".\")\n",
    "    checkValidImageFormat(ext)\n",
    "    if isdir(name): rmtree(name)\n",
    "    return name, bgr2gray(imread(entrie))\n",
    "\n",
    "  if isfile(entrie):\n",
    "    yield imopen_core(entrie)\n",
    "    return\n",
    "  if isdir(entrie):\n",
    "    yield from (imopen_core(join(entrie, e.name))\n",
    "      for e in scandir(entrie) if e.is_file())\n",
    "    return\n",
    "\n",
    "  raise FileNotFoundError(f\"{entrie!r} ñ existe!\")"
   ]
  },
  {
   "cell_type": "code",
   "execution_count": null,
   "metadata": {},
   "outputs": [],
   "source": [
    "def cutImage(entrie: MatLike, shape: Size):\n",
    "  if len(shape) != 2: raise TypeError(\n",
    "    \"\\\"shape\\\" não tem tamanho 2!\")\n",
    "  x1, x2, y1, y2 = 180, 2445, 305, 6095\n",
    "  cutted = entrie[x1:x2, y1:y2]\n",
    "  cutted = resize(cutted, shape[::-1])\n",
    "  print(\"cutImage terminado!\")\n",
    "  return cutted"
   ]
  },
  {
   "cell_type": "code",
   "execution_count": null,
   "metadata": {},
   "outputs": [],
   "source": [
    "def gaussProcess(entrie: MatLike, size = 19, C = 10):\n",
    "  output = adaptiveThreshold(entrie, 255,\n",
    "    ADAPTIVE_THRESH_GAUSSIAN_C, THRESH_BINARY, size, C)\n",
    "  output = GaussianBlur(output, (11, 11), 0)\n",
    "  print(\"gaussProcess terminado!\")\n",
    "  return output"
   ]
  },
  {
   "cell_type": "code",
   "execution_count": null,
   "metadata": {},
   "outputs": [],
   "source": [
    "def cannyFilter(entrie: MatLike):\n",
    "  output = Canny(entrie, 200, 255, L2gradient = True)\n",
    "  print(\"cannyFilter terminado!\")\n",
    "  return output"
   ]
  },
  {
   "cell_type": "code",
   "execution_count": null,
   "metadata": {},
   "outputs": [],
   "source": [
    "def separeLines(entrie: MatLike, quant = 2000):\n",
    "  def separeLines_core():\n",
    "    dim1, dim2 = (entrie == WHITE).nonzero()\n",
    "    locs = zeros((len(dim1), 3), int)\n",
    "    locs[:, 0], locs[:, 1] = dim2, dim1\n",
    "    ani = Ellipsoid(((.3, 0, 0), (0, 2.6, 0), (0, 0, 0)))\n",
    "    clusters = find_clusters(locs, ani, 20, 6, 1e-9, 1)\n",
    "    for cluster in set(clusters):\n",
    "      dim2, dim1, a = locs[clusters == cluster].T\n",
    "      if len(dim2) < quant: continue\n",
    "      yield vstack((dim1, dim2)).T[dim2.argsort()]\n",
    "\n",
    "  output = [*separeLines_core()]\n",
    "  print(\"separeLines terminado!\")\n",
    "  return output"
   ]
  },
  {
   "cell_type": "code",
   "execution_count": null,
   "metadata": {},
   "outputs": [],
   "source": [
    "def meanRemove(entrie: larrs):\n",
    "  MIN, MAX = 550, 5\n",
    "  curves: larrs = []\n",
    "  basels: larrs = []\n",
    "  for array in entrie:\n",
    "    (A, B) = array.T\n",
    "    choice = curves\n",
    "    mean = A.mean(dtype = int)\n",
    "    res = (abs(A - mean) > MAX)\n",
    "    if res.sum() < MIN:\n",
    "      choice, res = basels, ~res\n",
    "      A, B = A[res], B[res]\n",
    "    array = vstack((A, B)).T\n",
    "    choice.append(array)\n",
    "  print(\"meanRemove terminado!\")\n",
    "  return curves, basels"
   ]
  },
  {
   "cell_type": "code",
   "execution_count": null,
   "metadata": {},
   "outputs": [],
   "source": [
    "def saveLines(lines: larrs, dname: str, dtype: str, shape: Size):\n",
    "  if len(shape) != 2: raise TypeError(\"shape sem tam. 2!\")\n",
    "  pasta, preta = f\"{dname}/lines\", zeros(shape, \"u1\")\n",
    "  if not isdir(pasta): mkdir(pasta)\n",
    "  for i, subarray in enumerate(lines):\n",
    "    imagem, (dim1, dim2) = preta.copy(), subarray.T\n",
    "    imagem[dim1, dim2] = WHITE\n",
    "    imwrite(fr\"{pasta}\\\\{dtype}{i}.png\", imagem)\n",
    "    with open(fr\"{pasta}\\\\{dtype}{i}.txt\", \"w\") as output:\n",
    "      output.write(f\"Tam.: {shape}\\n\")\n",
    "      output.writelines(map(str, subarray))\n",
    "  print(\"saveLines terminado!\")"
   ]
  },
  {
   "cell_type": "code",
   "execution_count": null,
   "metadata": {},
   "outputs": [],
   "source": [
    "def sobrepor(entrie: MatLike, listas: larrs):\n",
    "  output = gray2bgr(entrie)\n",
    "  dim1, dim2 = zip(*(e for a in listas for e in a))\n",
    "  output[dim1, dim2] = RED\n",
    "  print(\"sobrepor terminado!\")\n",
    "  return output"
   ]
  },
  {
   "cell_type": "code",
   "execution_count": null,
   "metadata": {},
   "outputs": [],
   "source": [
    "# def components_with_t(base: float, mm_const: float, mm_diff: NDArray,\n",
    "#                       q_comp: float, t_base: float, t_diff: float):\n",
    "#   return (base + (mm_const * mm_diff) - (q_comp * (t_base - t_diff)))\n",
    "\n",
    "# def components_wout_t(base: float, mm_const: float, mm_diff: NDArray):\n",
    "#   return components_with_t(base, mm_const, mm_diff, 0, 0, 0)\n",
    "\n",
    "# d_component = t_component = components_wout_t\n",
    "# h_component = z_component = components_with_t"
   ]
  },
  {
   "cell_type": "code",
   "execution_count": null,
   "metadata": {},
   "outputs": [],
   "source": [
    "# def differs(curves: larrs, basels: larrs, px_to_mm: float):\n",
    "#   (h, d, z) = curves\n",
    "#   def differs_core():\n",
    "#     for basel in basels:\n",
    "#       meanbase = basel.T[0].mean().round().astype(int)\n",
    "#       diff_h_mm = ((meanbase - h.T[0]) * px_to_mm)\n",
    "#       diff_d_mm = ((meanbase - d.T[0]) * px_to_mm)\n",
    "#       diff_z_mm = ((meanbase - z.T[0]) * px_to_mm)\n",
    "#       yield (diff_h_mm, diff_d_mm, diff_z_mm)\n",
    "#   ret = zip(*differs_core())\n",
    "#   print(\"differs terminado!\")\n",
    "#   return ret\n",
    "\n",
    "# Sequence = tuple[NDArray, ...]\n",
    "# def h_comp_calc(diffs_h: Sequence, h_base: float, h_const: float, hq_comp: float, t_comp: float, dir: str):\n",
    "#   for b, diff_h in enumerate(diffs_h):\n",
    "#     with open(fr\"{dir}/diffs/h{b}.txt\", \"w\") as output:\n",
    "#       output.writelines(map(str, h_component(h_base, h_const, diff_h, hq_comp, t_comp)))\n",
    "\n",
    "# def d_comp_calc(diffs_d: Sequence, d_base: float, d_const: float, dir: str):\n",
    "#   for b, diff_d in enumerate(diffs_d):\n",
    "#     with open(fr\"{dir}/diffs/d{b}.txt\", \"w\") as output:\n",
    "#       output.writelines(map(str, d_component(d_base, d_const, diff_d)))\n",
    "\n",
    "# def z_comp_calc(diffs_z: Sequence, z_base: float, z_const: float, zq_comp: float, t_comp: float, dir: str):\n",
    "#   for b, diff_z in enumerate(diffs_z):\n",
    "#     with open(fr\"{dir}/diffs/z{b}.txt\", \"w\") as output:\n",
    "#       output.writelines(map(str, z_component(z_base, z_const, diff_z, zq_comp, t_comp)))"
   ]
  },
  {
   "cell_type": "code",
   "execution_count": null,
   "metadata": {},
   "outputs": [],
   "source": [
    "def differs(curves: larrs, basels: larrs, dname: str, alt: int):\n",
    "  pasta, const = f\"{dname}/diffs\", (200 / alt)\n",
    "  if not isdir(pasta): mkdir(pasta)\n",
    "  ecurves, ebasels = enumerate(curves), enumerate(basels)\n",
    "  for (c, curve), (b, basel) in product(ecurves, ebasels):\n",
    "    mean = basel.T[0].mean(dtype = int)\n",
    "    with open(fr\"{pasta}\\\\curve{c}base{b}.txt\", \"w\") as saida:\n",
    "      for (e1, e2) in curve:\n",
    "        value = (mean - e1) * const\n",
    "        el1, el2 = (e1, e2), (mean, e2)\n",
    "        saida.write(f\"{el1}{el2} - {value}\\n\")\n",
    "  print(\"differs terminado!\")"
   ]
  },
  {
   "cell_type": "code",
   "execution_count": 14,
   "metadata": {},
   "outputs": [],
   "source": [
    "shape, alt = (1800, 4590), 4590\n",
    "images = enumerate(imopen(r\"Imagens\"))\n",
    "for i, (name, opened) in images:\n",
    "  print(f\"{i} - Imagem atual: {name}\")\n",
    "  if not isdir(name): mkdir(name)\n",
    "\n",
    "  cutted = cutImage(opened, shape)\n",
    "  imwrite(f\"{name}/cutted.png\", cutted)\n",
    "  gauss = gaussProcess(cutted)\n",
    "  imwrite(f\"{name}/gauss.png\", gauss)\n",
    "  canny = cannyFilter(gauss)\n",
    "  imwrite(f\"{name}/canny.png\", canny)\n",
    "\n",
    "  skeleton = skeletonize(canny, 12)\n",
    "  imwrite(f\"{name}/skeleton.png\", skeleton)\n",
    "\n",
    "  separed = separeLines(skeleton)\n",
    "  curves, basels = meanRemove(separed)\n",
    "\n",
    "  saveLines(curves, name, \"curve\", shape)\n",
    "  saveLines(basels, name, \"basel\", shape)\n",
    "  differs(curves, basels, name, alt)\n",
    "\n",
    "  sobre1 = sobrepor(skeleton, curves)\n",
    "  sobre2 = sobrepor(canny, curves)\n",
    "  imwrite(f\"{name}/sobre1.png\", sobre1)\n",
    "  imwrite(f\"{name}/sobre2.png\", sobre2)\n",
    "  print(\"\\n----------------------\\n\")\n",
    "\n",
    "print(\"Processo Terminado!\")"
   ]
  }
 ],
 "metadata": {
  "kernelspec": {
   "display_name": "Python 3",
   "language": "python",
   "name": "python3"
  },
  "language_info": {
   "codemirror_mode": {
    "name": "ipython",
    "version": 3
   },
   "file_extension": ".py",
   "mimetype": "text/x-python",
   "name": "python",
   "nbconvert_exporter": "python",
   "pygments_lexer": "ipython3",
   "version": "3.12.4"
  }
 },
 "nbformat": 4,
 "nbformat_minor": 2
}
