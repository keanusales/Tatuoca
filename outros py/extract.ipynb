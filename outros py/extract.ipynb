{
 "cells": [
  {
   "cell_type": "code",
   "execution_count": null,
   "metadata": {},
   "outputs": [],
   "source": [
    "from numpy.typing import NDArray\n",
    "from numpy import full, asarray\n",
    "from os.path import isfile, isdir, join\n",
    "from os import mkdir, scandir, cpu_count\n",
    "from itertools import groupby\n",
    "from cv2.typing import MatLike, Size\n",
    "from cv2 import (cvtColor, imread, imwrite, resize, Canny,\n",
    "  GaussianBlur, ADAPTIVE_THRESH_GAUSSIAN_C, THRESH_BINARY,\n",
    "  adaptiveThreshold, COLOR_BGR2GRAY, COLOR_GRAY2BGR)\n",
    "from lpmalgos import Ellipsoid, find_clusters\n",
    "from shutil import rmtree"
   ]
  },
  {
   "cell_type": "code",
   "execution_count": null,
   "metadata": {},
   "outputs": [],
   "source": [
    "BLACK, WHITE, RED = 0, 255, (0, 0, 255)\n",
    "larrs = list[NDArray]\n",
    "\n",
    "def checkValidImageFormat(extension: str):\n",
    "  valid = (\"bmp\", \"dib\", \"jpeg\", \"jpg\", \"jpe\",\n",
    "    \"jp2\", \"png\", \"pnm\", \"avif\", \"pbm\", \"pgm\",\n",
    "    \"ppm\", \"pxm\", \"webp\", \"pfm\", \"sr\", \"ras\",\n",
    "    \"tiff\", \"tif\", \"exr\", \"hdr\", \"pic\")\n",
    "  if not extension in valid:\n",
    "    raise TypeError(\"Não é uma imagem!\")\n",
    "\n",
    "def bgr2gray(entrie: MatLike):\n",
    "  return cvtColor(entrie, COLOR_BGR2GRAY)\n",
    "\n",
    "def gray2bgr(entrie: MatLike):\n",
    "  return cvtColor(entrie, COLOR_GRAY2BGR)"
   ]
  },
  {
   "cell_type": "code",
   "execution_count": null,
   "metadata": {},
   "outputs": [],
   "source": [
    "def imopen(entrie: str):\n",
    "  def imopen_core(entrie: str):\n",
    "    name, ext = entrie.split(\".\")\n",
    "    checkValidImageFormat(ext)\n",
    "    if isdir(name): rmtree(name)\n",
    "    return name, bgr2gray(imread(entrie))\n",
    "\n",
    "  if isfile(entrie):\n",
    "    yield imopen_core(entrie)\n",
    "    return\n",
    "  if isdir(entrie):\n",
    "    yield from (imopen_core(join(entrie, e.name))\n",
    "      for e in scandir(entrie) if e.is_file())\n",
    "    return\n",
    "\n",
    "  raise FileNotFoundError(f\"{entrie} ñ existe!\")"
   ]
  },
  {
   "cell_type": "code",
   "execution_count": null,
   "metadata": {},
   "outputs": [],
   "source": [
    "def cutImage(entrie: MatLike, shape: Size):\n",
    "  if len(shape) != 2: raise TypeError(\n",
    "    \"\\\"shape\\\" não tem tamanho 2!\")\n",
    "  x1, x2, y1, y2 = 180, 2445, 305, 6095\n",
    "  cutted = entrie[x1:x2, y1:y2]\n",
    "  cutted = resize(cutted, shape[::-1])\n",
    "  print(\"cutImage terminado!\")\n",
    "  return cutted"
   ]
  },
  {
   "cell_type": "code",
   "execution_count": null,
   "metadata": {},
   "outputs": [],
   "source": [
    "def gaussProcess(entrie: MatLike, size = 19, C = 10):\n",
    "  output = adaptiveThreshold(entrie, 255,\n",
    "    ADAPTIVE_THRESH_GAUSSIAN_C, THRESH_BINARY, size, C)\n",
    "  output = GaussianBlur(output, (11, 11), 0)\n",
    "  print(\"gaussProcess terminado!\")\n",
    "  return output"
   ]
  },
  {
   "cell_type": "code",
   "execution_count": null,
   "metadata": {},
   "outputs": [],
   "source": [
    "def cannyFilter(entrie: MatLike):\n",
    "  output = Canny(entrie, 200, 255, L2gradient = True)\n",
    "  print(\"cannyFilter terminado!\")\n",
    "  return output"
   ]
  },
  {
   "cell_type": "code",
   "execution_count": null,
   "metadata": {},
   "outputs": [],
   "source": [
    "def skeletonize(entrie: MatLike, distance = 12):\n",
    "  output = entrie.copy(); trans = output.T\n",
    "  whites = asarray((trans == WHITE).nonzero())\n",
    "  whites = groupby(whites.T, lambda x: x[0])\n",
    "  for line, elems in whites:\n",
    "    point2, elems = 0, [*elems]\n",
    "    lenelems = len(elems)\n",
    "    while True:\n",
    "      point1 = point2\n",
    "      (a, y0) = (a, y1) = elems[point1]\n",
    "      for pos in range(point1 + 1, lenelems):\n",
    "        (a, ny), point2 = elems[pos], pos\n",
    "        if (ny - y0) > distance: break\n",
    "        (a, y1) = (a, ny)\n",
    "      if point1 == point2: break\n",
    "      trans[line, y0:(y1 + 1)] = BLACK\n",
    "      midpoint = ((y0 + y1) // 2)\n",
    "      trans[line, midpoint] = WHITE\n",
    "  print(\"skeletonize terminado!\")\n",
    "  return output"
   ]
  },
  {
   "cell_type": "code",
   "execution_count": null,
   "metadata": {},
   "outputs": [],
   "source": [
    "def separeLines(entrie: MatLike, quant = 2000):\n",
    "  def separeLines_core():\n",
    "    dim1, dim2 = (entrie == WHITE).nonzero()\n",
    "    data_locs = asarray((dim2, dim1, [0] * len(dim1))).T\n",
    "    ani = Ellipsoid(((.3, 0, 0), (0, 2.6, 0), (0, 0, 0)))\n",
    "    clusters = asarray(find_clusters(data_locs,\n",
    "      ani, 20, 1, 1e-9, 1, cpu_count()))\n",
    "    for cluster in set(clusters):\n",
    "      dim2, dim1, a = data_locs[clusters == cluster].T\n",
    "      if len(dim2) < quant: continue\n",
    "      yield asarray((dim1, dim2)).T[dim2.argsort()]\n",
    "\n",
    "  output = [*separeLines_core()]\n",
    "  print(\"separeLines terminado!\")\n",
    "  return output"
   ]
  },
  {
   "cell_type": "code",
   "execution_count": null,
   "metadata": {},
   "outputs": [],
   "source": [
    "def meanRemove(entrie: larrs):\n",
    "  MIN, MAX = 550, 5\n",
    "  curves: larrs = []\n",
    "  basels: larrs = []\n",
    "  for array in entrie:\n",
    "    (A, B) = array.T\n",
    "    choice = curves\n",
    "    mean = A.mean(dtype = int)\n",
    "    res = (abs(A - mean) > MAX)\n",
    "    if res.sum() < MIN:\n",
    "      choice, res = basels, ~res\n",
    "      A, B = A[res], B[res]\n",
    "    array = asarray((A, B)).T\n",
    "    choice.append(array)\n",
    "  print(\"meanRemove terminado!\")\n",
    "  return curves, basels"
   ]
  },
  {
   "cell_type": "code",
   "execution_count": null,
   "metadata": {},
   "outputs": [],
   "source": [
    "def saveLines(lines: larrs, dname: str, dtype: str, shape: Size):\n",
    "  if len(shape) != 2: raise TypeError\n",
    "  pasta, preta = f\"{dname}/lines\", full(shape, BLACK, \"u1\")\n",
    "  if not isdir(pasta): mkdir(pasta)\n",
    "  for i, subarray in enumerate(lines):\n",
    "    imagem, (dim1, dim2) = preta.copy(), subarray.T\n",
    "    imagem[dim1, dim2] = WHITE\n",
    "    imwrite(f\"{pasta}/{dtype}{i}.png\", imagem)\n",
    "    with open(f\"{pasta}/{dtype}{i}.txt\", \"w\") as saida:\n",
    "      saida.write(f\"Tam.: {shape}\\n\")\n",
    "      for tupla in subarray: saida.write(f\"{tupla}\\n\")\n",
    "  print(\"saveLines terminado!\")"
   ]
  },
  {
   "cell_type": "code",
   "execution_count": null,
   "metadata": {},
   "outputs": [],
   "source": [
    "def sobrepor(entrie: MatLike, listas: larrs):\n",
    "  output = gray2bgr(entrie)\n",
    "  dim1, dim2 = zip(*(e for a in listas for e in a))\n",
    "  output[dim1, dim2] = RED\n",
    "  print(\"sobrepor terminado!\")\n",
    "  return output"
   ]
  },
  {
   "cell_type": "code",
   "execution_count": null,
   "metadata": {},
   "outputs": [],
   "source": [
    "def components_with_t(base: float, mm_const: float, mm_diff: NDArray,\n",
    "                      q_comp: float, t_comp: float):\n",
    "  return (base + (mm_const * mm_diff) - (q_comp * t_comp))\n",
    "\n",
    "def components_wout_t(base: float, mm_const: float, mm_diff: NDArray):\n",
    "  return components_with_t(base, mm_const, mm_diff, 0, 0)\n",
    "\n",
    "d_component = t_component = components_wout_t\n",
    "h_component = z_component = components_with_t"
   ]
  },
  {
   "cell_type": "code",
   "execution_count": null,
   "metadata": {},
   "outputs": [],
   "source": [
    "def differs(curves: larrs, basels: larrs,\n",
    "            h_base: float, h_const: float, hq_comp: float,\n",
    "            d_base: float, d_const: float,\n",
    "            z_base: float, z_const: float, zq_comp: float,\n",
    "            t_comp: float,\n",
    "            dir_name: str, px_to_mm: float):\n",
    "  pasta, (h, d, z) = f\"{dir_name}/diffs\", curves\n",
    "  if not isdir(pasta): mkdir(pasta)\n",
    "  for b, basel in enumerate(basels):\n",
    "    meanbase = basel.T[0].mean().round().astype(int)\n",
    "    with open(fr\"{pasta}/h{b}.txt\", \"w\") as o:\n",
    "      o.writelines(map(str, h_component(h_base, h_const, ((meanbase - h.T[0]) * px_to_mm), hq_comp, t_comp)))\n",
    "    with open(fr\"{pasta}/d{b}.txt\", \"w\") as o:\n",
    "      o.writelines(map(str, d_component(d_base, d_const, ((meanbase - d.T[0]) * px_to_mm))))\n",
    "    with open(fr\"{pasta}/z{b}.txt\", \"w\") as o:\n",
    "      o.writelines(map(str, z_component(z_base, z_const, ((meanbase - z.T[0]) * px_to_mm), zq_comp, t_comp)))\n",
    "  print(\"differs terminado!\")"
   ]
  },
  {
   "cell_type": "code",
   "execution_count": null,
   "metadata": {},
   "outputs": [],
   "source": [
    "shape, const = (1800, 4590), (200 / 4590)\n",
    "for name, opened in imopen(\"Imagens\"):\n",
    "  print(f\"Imagem atual: {name}\")\n",
    "  if not isdir(name): mkdir(name)\n",
    "\n",
    "  cutted = cutImage(opened, shape)\n",
    "  imwrite(f\"{name}/cutted.png\", cutted)\n",
    "  gauss = gaussProcess(cutted)\n",
    "  imwrite(f\"{name}/gauss.png\", gauss)\n",
    "  canny = cannyFilter(gauss)\n",
    "  imwrite(f\"{name}/canny.png\", canny)\n",
    "\n",
    "  skeleton = skeletonize(canny)\n",
    "  imwrite(f\"{name}/skeleton.png\", skeleton)\n",
    "\n",
    "  separed = separeLines(skeleton)\n",
    "  curves, basels = meanRemove(separed)\n",
    "\n",
    "  saveLines(curves, name, \"curve\", shape)\n",
    "  saveLines(basels, name, \"basel\", shape)\n",
    "  differs(curves, basels, name, const)\n",
    "\n",
    "  sobre1 = sobrepor(skeleton, curves)\n",
    "  sobre2 = sobrepor(canny, curves)\n",
    "  imwrite(f\"{name}/sobre1.png\", sobre1)\n",
    "  imwrite(f\"{name}/sobre2.png\", sobre2)\n",
    "  print(\"\\n----------------------\\n\")\n",
    "\n",
    "print(\"Processo Terminado!\")"
   ]
  }
 ],
 "metadata": {
  "kernelspec": {
   "display_name": "Python 3",
   "language": "python",
   "name": "python3"
  },
  "language_info": {
   "codemirror_mode": {
    "name": "ipython",
    "version": 3
   },
   "file_extension": ".py",
   "mimetype": "text/x-python",
   "name": "python",
   "nbconvert_exporter": "python",
   "pygments_lexer": "ipython3",
   "version": "3.12.4"
  }
 },
 "nbformat": 4,
 "nbformat_minor": 2
}
